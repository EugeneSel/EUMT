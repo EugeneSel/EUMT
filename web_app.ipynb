{
 "cells": [
  {
   "cell_type": "code",
   "execution_count": 1,
   "metadata": {},
   "outputs": [],
   "source": [
    "import os\n",
    "import json\n",
    "import tensorflow as tf\n",
    "tf.get_logger().setLevel('ERROR')\n",
    "\n",
    "from utils.process_text import init_tokenizer\n",
    "\n",
    "import ipywidgets as widgets\n",
    "from IPython.display import display\n",
    "\n",
    "\n",
    "TOKEN_CONFIG = \"configs/tokenizer_default_config.json\""
   ]
  },
  {
   "cell_type": "markdown",
   "metadata": {},
   "source": [
    "## EUMT\n",
    "\n",
    "> English-Ukrainian biderectional neural machine translator, based on [fastText](https://fasttext.cc/docs/en/support.html) word embeddings and [default Transformer architecture](https://arxiv.org/pdf/1706.03762.pdf%EF%BC%89%E6%8F%8F%E8%BF%B0%E4%BA%86%E8%BF%99%E6%A0%B7%E5%81%9A%E7%9A%84%E5%8E%9F%E5%9B%A0%E3%80%82) of the [OpenNMT framework](https://opennmt.net/)."
   ]
  },
  {
   "cell_type": "code",
   "execution_count": 2,
   "metadata": {},
   "outputs": [],
   "source": [
    "transformer_en = tf.saved_model.load(\"models_serve/QED2_en/export/20000\").signatures[\"serving_default\"]\n",
    "transformer_uk = tf.saved_model.load(\"models_serve/QED_uk/export/30000\").signatures[\"serving_default\"]"
   ]
  },
  {
   "cell_type": "code",
   "execution_count": 3,
   "metadata": {},
   "outputs": [],
   "source": [
    "def preprocess(tokenizer, data):\n",
    "    all_tokens = []\n",
    "    lengths = []\n",
    "\n",
    "    for text in data:\n",
    "        tokens = tokenizer._tokenize_string(text.lower())\n",
    "        length = len(tokens)\n",
    "        all_tokens.append(tokens)\n",
    "        lengths.append(length)\n",
    "    max_length = max(lengths)\n",
    "\n",
    "    for tokens, length in zip(all_tokens, lengths):\n",
    "        if length < max_length:\n",
    "            tokens += [\"\"] * (max_length - length)\n",
    "\n",
    "    inputs = {\n",
    "        \"tokens\": tf.constant(all_tokens, dtype=tf.string),\n",
    "        \"length\": tf.constant(lengths, dtype=tf.int32),\n",
    "    }\n",
    "\n",
    "    return inputs\n",
    "\n",
    "def postprocess(tokenizer, outputs):\n",
    "    translation = []\n",
    "    for tokens, length in zip(outputs[\"tokens\"].numpy(), outputs[\"length\"].numpy()):\n",
    "        tokens = tokens[0][: length[0]].tolist()\n",
    "        translation.append(tokenizer._detokenize_string(tokens).replace(\"<unk>\", \"\"))\n",
    "\n",
    "    return translation"
   ]
  },
  {
   "cell_type": "code",
   "execution_count": 4,
   "metadata": {},
   "outputs": [],
   "source": [
    "is_uk = False\n",
    "\n",
    "# Initialize tokenizer:\n",
    "with open(TOKEN_CONFIG, \"r\") as f:\n",
    "    tokenizer_config = json.load(f)\n",
    "\n",
    "tokenizer = init_tokenizer(tokenizer_config)\n",
    "\n",
    "labels = [\"English\", \"Ukrainian\"]"
   ]
  },
  {
   "cell_type": "code",
   "execution_count": 5,
   "metadata": {},
   "outputs": [
    {
     "output_type": "display_data",
     "data": {
      "text/plain": "HBox(children=(VBox(children=(Label(value='English'), Textarea(value=''))), VBox(children=(Button(description=…",
      "application/vnd.jupyter.widget-view+json": {
       "version_major": 2,
       "version_minor": 0,
       "model_id": "7225af55756c4e73b4ccb422285f4041"
      }
     },
     "metadata": {}
    }
   ],
   "source": [
    "# Buttons:\n",
    "switch_language = widgets.Button(description='Switch language')\n",
    "translate = widgets.Button(description='Translate')\n",
    "\n",
    "buttons = widgets.VBox([switch_language, translate])\n",
    "\n",
    "# Text fields:\n",
    "source_label = widgets.Label(labels[is_uk])\n",
    "source_text = widgets.Textarea()\n",
    "source = widgets.VBox([source_label, source_text])\n",
    "\n",
    "target_label = widgets.Label(labels[not is_uk])\n",
    "target_text = widgets.Output()\n",
    "target = widgets.VBox([target_label, target_text])\n",
    "\n",
    "dashboard = widgets.HBox([source, buttons, target])\n",
    "\n",
    "display(dashboard)"
   ]
  },
  {
   "cell_type": "code",
   "execution_count": 6,
   "metadata": {},
   "outputs": [],
   "source": [
    "def on_click_translate(change):\n",
    "    source_doc = source_text.value\n",
    "    inputs = preprocess(tokenizer, [source_doc])\n",
    "    translation = transformer_uk(**inputs) if is_uk else transformer_en(**inputs)\n",
    "    target_text.clear_output()\n",
    "    with target_text:\n",
    "        print(\". \".join(postprocess(tokenizer, translation)))\n",
    "\n",
    "translate.on_click(on_click_translate)"
   ]
  },
  {
   "cell_type": "code",
   "execution_count": 7,
   "metadata": {},
   "outputs": [],
   "source": [
    "def on_click_switch(change):\n",
    "    global is_uk\n",
    "    is_uk = not is_uk\n",
    "    source_label.value = labels[is_uk]\n",
    "    target_label.value = labels[not is_uk]\n",
    "    source_text.value = \"\"\n",
    "    target_text.clear_output()\n",
    "\n",
    "switch_language.on_click(on_click_switch, is_uk)"
   ]
  }
 ],
 "metadata": {
  "kernelspec": {
   "name": "python376jvsc74a57bd054bfe388838f029d69968b9e925c392f1790cd451ad44dba51ac4808fa59fdcd",
   "display_name": "Python 3.7.6 64-bit ('base': conda)"
  },
  "language_info": {
   "codemirror_mode": {
    "name": "ipython",
    "version": 3
   },
   "file_extension": ".py",
   "mimetype": "text/x-python",
   "name": "python",
   "nbconvert_exporter": "python",
   "pygments_lexer": "ipython3",
   "version": "3.7.6-final"
  },
  "metadata": {
   "interpreter": {
    "hash": "54bfe388838f029d69968b9e925c392f1790cd451ad44dba51ac4808fa59fdcd"
   }
  }
 },
 "nbformat": 4,
 "nbformat_minor": 2
}